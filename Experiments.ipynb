{
 "cells": [
  {
   "cell_type": "code",
   "execution_count": 4,
   "id": "ef91beae-0ff1-4e6e-a3a6-9d61ba7bb30d",
   "metadata": {},
   "outputs": [
    {
     "name": "stdout",
     "output_type": "stream",
     "text": [
      "The autoreload extension is already loaded. To reload it, use:\n",
      "  %reload_ext autoreload\n"
     ]
    }
   ],
   "source": [
    "from IPython.lib.deepreload import reload\n",
    "%load_ext autoreload\n",
    "%autoreload 2\n",
    "import torch\n",
    "from torch.distributions.categorical import Categorical\n",
    "import matplotlib.pyplot as plt\n",
    "import importlib \n",
    "import src.utils as utils\n",
    "import json\n",
    "import numpy as np\n",
    "from PIL import Image"
   ]
  },
  {
   "cell_type": "markdown",
   "id": "d24a98ff-568a-4259-806a-35e8c2b79be6",
   "metadata": {
    "jupyter": {
     "source_hidden": true
    },
    "tags": []
   },
   "source": [
    "## Inverse transform sampling"
   ]
  },
  {
   "cell_type": "code",
   "execution_count": null,
   "id": "4b7e3d71-f3d8-40f5-888d-79cbeadedd95",
   "metadata": {},
   "outputs": [],
   "source": [
    "lamb = 0.1\n",
    "exp_dist = lamb*torch.exp(lamb*torch.arange(100))\n",
    "exp_dist = torch.unsqueeze(exp_dist, 0)"
   ]
  },
  {
   "cell_type": "code",
   "execution_count": null,
   "id": "6fd558f2-04fe-43bd-9b67-6dceab3f1503",
   "metadata": {},
   "outputs": [
    {
     "data": {
      "image/png": "[encoded data removed]",
      "text/plain": [
       "<Figure size 432x288 with 1 Axes>"
      ]
     },
     "metadata": {
      "needs_background": "light"
     },
     "output_type": "display_data"
    }
   ],
   "source": [
    "plt.plot(torch.arange(100), exp_dist[0]);"
   ]
  },
  {
   "cell_type": "code",
   "execution_count": null,
   "id": "f6d111ac-5b6e-4a28-964c-7c5554374591",
   "metadata": {},
   "outputs": [
    {
     "data": {
      "image/png": "[encoded data removed]",
      "text/plain": [
       "<Figure size 432x288 with 1 Axes>"
      ]
     },
     "metadata": {
      "needs_background": "light"
     },
     "output_type": "display_data"
    }
   ],
   "source": [
    "dist = utils.sample_fine(1000, torch.arange(101).unsqueeze(0), exp_dist).detach()\n",
    "a = torch.round(dist * 100)\n",
    "plt.hist(a, 100);"
   ]
  },
  {
   "cell_type": "code",
   "execution_count": null,
   "id": "5cdccd09-7f84-4b61-bcb7-bf690506ccad",
   "metadata": {},
   "outputs": [],
   "source": [
    "dist = Categorical(probs=exp_dist)"
   ]
  },
  {
   "cell_type": "code",
   "execution_count": null,
   "id": "cee6945b-d1bc-49d8-9dd3-0413d7a0f286",
   "metadata": {},
   "outputs": [
    {
     "data": {
      "image/png": "[encoded data removed]",
      "text/plain": [
       "<Figure size 432x288 with 1 Axes>"
      ]
     },
     "metadata": {
      "needs_background": "light"
     },
     "output_type": "display_data"
    }
   ],
   "source": [
    "plt.hist(dist.sample((1000,)).numpy(), 100);"
   ]
  },
  {
   "cell_type": "code",
   "execution_count": null,
   "id": "a20987e6-63aa-4f8d-bd85-56aebe6debe1",
   "metadata": {},
   "outputs": [],
   "source": [
    "with open('./dataset/nerf_synthetic/chair/transforms_train.json') as f:\n",
    "    data = json.load(f)\n",
    "    \n",
    "cm = torch.Tensor(data['frames'][0]['transform_matrix'])\n",
    "w = 800\n",
    "h = 800\n",
    "f = (w/2)*(1/np.tan(data['camera_angle_x']/2))"
   ]
  },
  {
   "cell_type": "code",
   "execution_count": null,
   "id": "384f3d50-a701-4261-a4ab-fe99b3cb6597",
   "metadata": {},
   "outputs": [],
   "source": [
    "o, d = utils.get_rays(cm, f, h, w)"
   ]
  },
  {
   "cell_type": "code",
   "execution_count": null,
   "id": "6ffdba2a-3982-4f38-ae62-617169e8116d",
   "metadata": {},
   "outputs": [
    {
     "name": "stdout",
     "output_type": "stream",
     "text": [
      "tensor([[ 0.9426,  1.5231, -1.0000]])\n"
     ]
    }
   ],
   "source": [
    "oz = o[0,0].unsqueeze(0)\n",
    "dz = d[0,0].unsqueeze(0)\n",
    "a, b = utils.transform_to_ndc(oz, dz, 1, f, h, w)"
   ]
  },
  {
   "cell_type": "code",
   "execution_count": null,
   "id": "ab65fd42-ab0b-4933-a49b-462d0cec923f",
   "metadata": {},
   "outputs": [
    {
     "data": {
      "text/plain": [
       "tensor(0.6940)"
      ]
     },
     "execution_count": 88,
     "metadata": {},
     "output_type": "execute_result"
    }
   ],
   "source": [
    "o[0][0]\n",
    "torch.max(d)"
   ]
  },
  {
   "cell_type": "code",
   "execution_count": null,
   "id": "019f43d5-6b22-4533-b2d0-a8b5f6f4ed2e",
   "metadata": {},
   "outputs": [
    {
     "data": {
      "text/plain": [
       "tensor([-0.2208, -0.9157,  2.0000])"
      ]
     },
     "execution_count": 44,
     "metadata": {},
     "output_type": "execute_result"
    }
   ],
   "source": [
    "b[0]"
   ]
  },
  {
   "cell_type": "code",
   "execution_count": null,
   "id": "c247637d-6c58-4b57-80c9-1ff2289e9c4d",
   "metadata": {},
   "outputs": [
    {
     "data": {
      "text/plain": [
       "tensor([[0.3923, 0.7681, 0.0000]])"
      ]
     },
     "execution_count": 46,
     "metadata": {},
     "output_type": "execute_result"
    }
   ],
   "source": [
    "a + 0.5*b"
   ]
  },
  {
   "cell_type": "code",
   "execution_count": null,
   "id": "badc5bd5-3c6e-45f5-bbd6-4bc1589f5cc0",
   "metadata": {},
   "outputs": [],
   "source": [
    "from PIL import Image\n",
    "import torchvision.transforms.functional as F\n",
    "\n",
    "img = Image.open('dataset/nerf_synthetic/chair/train/r_0.png').convert('RGBA')\n",
    "bkg = Image.new('RGBA', img.size, (255, 255, 255))\n",
    "img = Image.alpha_composite(bkg, img).convert('RGB')\n",
    "img = F.to_tensor(img)\n",
    "img = img.reshape(3, -1).t()"
   ]
  },
  {
   "cell_type": "code",
   "execution_count": null,
   "id": "d359ea54-74c7-47e6-a8ba-ebc02fbb7c0f",
   "metadata": {},
   "outputs": [],
   "source": [
    "B = 4\n",
    "t = 7\n",
    "d = 3\n",
    "ts = torch.rand(B, t)\n",
    "os = torch.rand(B, d)\n",
    "ds = torch.rand(B, d)"
   ]
  },
  {
   "cell_type": "code",
   "execution_count": null,
   "id": "aaddefcc-4b7e-4aaf-8e30-b6134cae47b3",
   "metadata": {},
   "outputs": [
    {
     "data": {
      "text/plain": [
       "torch.Size([4, 1, 7])"
      ]
     },
     "execution_count": 76,
     "metadata": {},
     "output_type": "execute_result"
    }
   ],
   "source": [
    "ts[:,None,...].shape"
   ]
  },
  {
   "cell_type": "code",
   "execution_count": null,
   "id": "d79d0509-b627-4b3c-8b6f-cea029869c71",
   "metadata": {},
   "outputs": [
    {
     "data": {
      "text/plain": [
       "torch.Size([4, 7, 3])"
      ]
     },
     "execution_count": 83,
     "metadata": {},
     "output_type": "execute_result"
    }
   ],
   "source": [
    "(ts[...,None]*ds[:,None,:]).shape"
   ]
  },
  {
   "cell_type": "code",
   "execution_count": null,
   "id": "da36a335-306c-45f1-8f1c-4be2ee7c5de9",
   "metadata": {},
   "outputs": [
    {
     "data": {
      "text/plain": [
       "tensor([[3.2815, 3.7656, 3.8536, 4.3467, 4.8907],\n",
       "        [3.3031, 3.4774, 3.9770, 4.2670, 4.9960],\n",
       "        [3.0798, 3.5583, 3.8934, 4.3691, 4.7724],\n",
       "        [3.1439, 3.6133, 4.1749, 4.4962, 4.7734]])"
      ]
     },
     "execution_count": 10,
     "metadata": {},
     "output_type": "execute_result"
    }
   ],
   "source": [
    "importlib.reload(utils);\n",
    "near = 3*torch.ones(B)\n",
    "far = 5*torch.ones(B)\n",
    "n = 5\n",
    "utils.sample_coarse(B, n, near, far)"
   ]
  },
  {
   "cell_type": "code",
   "execution_count": null,
   "id": "6b7307b6-15d0-41af-b5c7-626600b921e9",
   "metadata": {
    "tags": []
   },
   "outputs": [],
   "source": [
    "import src.dataset as ds\n",
    "from src.module import NeRFModule\n",
    "from pathlib import Path\n",
    "from src import utils\n",
    "import numpy as np\n",
    "\n",
    "dataset = ds.NeRFBlenderDataSet(\"val\", Path(\"/ssd_scratch/cvit/ishaanshah/nerf_dataset/nerf_synthetic/lego/\"), 0.1)"
   ]
  },
  {
   "cell_type": "code",
   "execution_count": null,
   "id": "fddf89c0-2f84-4f4d-ae96-816b9bfd7c7b",
   "metadata": {},
   "outputs": [],
   "source": [
    "o, d, c, n, f = dataset[0]\n",
    "s = int(np.sqrt(o.shape[0]))\n",
    "l = o.shape[0]"
   ]
  },
  {
   "cell_type": "code",
   "execution_count": null,
   "id": "3f24e0b5-7a65-474d-9c5c-113d7b461307",
   "metadata": {},
   "outputs": [
    {
     "name": "stderr",
     "output_type": "stream",
     "text": [
      "/home2/ishaanshah/anaconda3/envs/SemGCN/lib/python3.8/site-packages/torchmetrics/utilities/prints.py:36: UserWarning: Metric `SSIM` will save all targets and predictions in buffer. For large datasets this may lead to large memory footprint.\n",
      "  warnings.warn(*args, **kwargs)\n"
     ]
    }
   ],
   "source": [
    "model = NeRFModule.load_from_checkpoint(\"nerf/6mvi7n5f/checkpoints/epoch=132-step=83125.ckpt\")"
   ]
  },
  {
   "cell_type": "code",
   "execution_count": null,
   "id": "e2ed8a37-6600-479c-a801-e6954224bec8",
   "metadata": {},
   "outputs": [],
   "source": [
    "tc = utils.sample_coarse(6400, 64, n*torch.ones(6400), f*torch.ones(6400))"
   ]
  },
  {
   "cell_type": "code",
   "execution_count": null,
   "id": "27d458a1-14cc-4851-8d81-7bda6639c8ba",
   "metadata": {},
   "outputs": [],
   "source": [
    "cp, wp = utils.render(o, d, tc, model.model_coarse, 10, 4, 100, True)"
   ]
  },
  {
   "cell_type": "code",
   "execution_count": null,
   "id": "56e8ad51-0b7b-4bb2-8b1f-9e3ea4c854af",
   "metadata": {},
   "outputs": [
    {
     "data": {
      "text/plain": [
       "[<matplotlib.lines.Line2D at 0x14c733516d30>]"
      ]
     },
     "execution_count": 20,
     "metadata": {},
     "output_type": "execute_result"
    },
    {
     "data": {
      "image/png": "[encoded data removed]",
      "text/plain": [
       "<Figure size 432x288 with 1 Axes>"
      ]
     },
     "metadata": {
      "needs_background": "light"
     },
     "output_type": "display_data"
    }
   ],
   "source": [
    "plt.plot(tc[0], w[1].detach().numpy())"
   ]
  },
  {
   "cell_type": "code",
   "execution_count": null,
   "id": "b0e66fb9-abbc-40f3-897c-ce7d1eda0558",
   "metadata": {},
   "outputs": [
    {
     "data": {
      "text/plain": [
       "tensor([[ 442,    2],\n",
       "        [ 443,    2],\n",
       "        [ 518,    2],\n",
       "        ...,\n",
       "        [5952,    1],\n",
       "        [5952,    2],\n",
       "        [5953,    2]])"
      ]
     },
     "execution_count": 15,
     "metadata": {},
     "output_type": "execute_result"
    }
   ],
   "source": [
    "torch.nonzero(c < .5)"
   ]
  },
  {
   "cell_type": "code",
   "execution_count": null,
   "id": "b4cbfcbf-b7ef-4052-9282-2a2db2b758c6",
   "metadata": {},
   "outputs": [],
   "source": []
  }
 ],
 "metadata": {
  "kernelspec": {
   "display_name": "Python 3 (ipykernel)",
   "language": "python",
   "name": "python3"
  },
  "language_info": {
   "codemirror_mode": {
    "name": "ipython",
    "version": 3
   },
   "file_extension": ".py",
   "mimetype": "text/x-python",
   "name": "python",
   "nbconvert_exporter": "python",
   "pygments_lexer": "ipython3",
   "version": "3.8.13"
  }
 },
 "nbformat": 4,
 "nbformat_minor": 5
}
