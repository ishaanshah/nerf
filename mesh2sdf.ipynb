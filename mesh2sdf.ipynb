{
 "cells": [
  {
   "cell_type": "code",
   "execution_count": 1,
   "id": "b9c3883d-5261-4124-b3cb-affb58321449",
   "metadata": {},
   "outputs": [],
   "source": [
    "import os\n",
    "os.environ['PYOPENGL_PLATFORM'] = 'egl'\n",
    "\n",
    "from mesh_to_sdf import mesh_to_voxels, mesh_to_sdf\n",
    "\n",
    "import trimesh\n",
    "import skimage\n",
    "\n",
    "mesh = trimesh.load('./dennis/dennis_unit.obj')\n",
    "\n",
    "\n",
    "\n",
    "#vertices, faces, normals, _ = skimage.measure.marching_cubes(voxels, level=0)\n",
    "#mesh = trimesh.Trimesh(vertices=vertices, faces=faces, vertex_normals=normals)\n",
    "# mesh.show()"
   ]
  },
  {
   "cell_type": "code",
   "execution_count": 11,
   "id": "aee3d948-af1f-447d-9b7e-bfad3536ef54",
   "metadata": {},
   "outputs": [
    {
     "name": "stdout",
     "output_type": "stream",
     "text": [
      "14.6 s ± 59.9 ms per loop (mean ± std. dev. of 7 runs, 1 loop each)\n"
     ]
    }
   ],
   "source": [
    "%%timeit\n",
    "voxels = mesh_to_voxels(mesh, 32, pad=True)\n",
    "voxels.shape"
   ]
  },
  {
   "cell_type": "code",
   "execution_count": 3,
   "id": "080f5939-445d-4800-bc18-e78bb8c20f09",
   "metadata": {},
   "outputs": [
    {
     "data": {
      "text/plain": [
       "array([0.14388561], dtype=float32)"
      ]
     },
     "execution_count": 3,
     "metadata": {},
     "output_type": "execute_result"
    }
   ],
   "source": [
    "import numpy as np\n",
    "points = np.array([[-0.21, -0.49, 1.14]])\n",
    "mesh_to_sdf(mesh, points)"
   ]
  }
 ],
 "metadata": {
  "kernelspec": {
   "display_name": "Python 3 (ipykernel)",
   "language": "python",
   "name": "python3"
  },
  "language_info": {
   "codemirror_mode": {
    "name": "ipython",
    "version": 3
   },
   "file_extension": ".py",
   "mimetype": "text/x-python",
   "name": "python",
   "nbconvert_exporter": "python",
   "pygments_lexer": "ipython3",
   "version": "3.8.13"
  }
 },
 "nbformat": 4,
 "nbformat_minor": 5
}
